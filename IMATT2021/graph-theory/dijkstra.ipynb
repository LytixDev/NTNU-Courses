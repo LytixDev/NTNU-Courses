{
 "cells": [
  {
   "cell_type": "code",
   "execution_count": 3,
   "id": "4cb12271",
   "metadata": {},
   "outputs": [],
   "source": [
    "graph = {\"A\": [(6, \"B\"), (1, \"D\")],\n",
    "         \"D\": [(1, \"A\"), (1, \"E\"), (2, \"B\")],\n",
    "         \"B\": [(6, \"A\"), (2, \"D\"), (2, \"E\"), (5, \"C\")],\n",
    "         \"C\": [(5, \"B\"), (5, \"E\")],\n",
    "         \"E\": [(5, \"C\"), (2, \"B\"), (1, \"D\")]}\n",
    "\n",
    "# A node's edges is stored as a list of tuples where the fist element is\n",
    "# the 'cost'/'length'/'distance' and the second element is the node the \n",
    "# edge conncets to."
   ]
  },
  {
   "cell_type": "code",
   "execution_count": 4,
   "id": "722009be",
   "metadata": {},
   "outputs": [],
   "source": [
    "# rotten graph\n",
    "\n",
    "graph_cq = {\n",
    "    \"J\": [(2, \"K\"), (7, \"I\"), (37, \"C\")],\n",
    "    \"K\": [(2, \"J\"), (11, \"S\"), (43, \"I\")],\n",
    "    \"S\": [(11, \"K\"), (41, \"I\"), (3, \"T\"), (79, \"R\"), (83, \"A\")],\n",
    "    \"A\": [(83, \"S\"), (5, \"R\")],\n",
    "    \"C\": [(37, \"J\"), (71, \"I\"), (74, \"D\")],\n",
    "    \"I\": [(7, \"J\"), (43, \"K\"), (41, \"S\"), (61, \"T\"), (67, \"F\"), (47, \"G\"), (31, \"D\"), (71, \"C\")],\n",
    "    \"T\": [(61, \"I\"), (3, \"S\"), (17, \"R\"), (13, \"F\")],\n",
    "    \"R\": [(17, \"T\"), (79, \"S\"), (5, \"A\"), (53, \"E\"), (59, \"F\")],\n",
    "    \"D\": [(73, \"C\"), (31, \"I\"), (29, \"G\")],\n",
    "    \"G\": [(29, \"D\"), (47, \"I\"), (23, \"F\")],\n",
    "    \"F\": [(23, \"G\"), (67, \"I\"), (13, \"T\"), (59, \"R\"), (19, \"E\")],\n",
    "    \"E\": [(19, \"F\"), (53, \"R\")]\n",
    "}"
   ]
  },
  {
   "cell_type": "code",
   "execution_count": 5,
   "id": "897caf59",
   "metadata": {},
   "outputs": [],
   "source": [
    "# Written by Nicolai H. Brand 2022\n",
    "\n",
    "import math\n",
    "\n",
    "def dijkstra(graph, start_node):\n",
    "    \n",
    "    distance = {k:math.inf for k in graph.keys()}\n",
    "    previous = {k:None for k in graph.keys()}\n",
    "\n",
    "    distance[start_node] = 0\n",
    "\n",
    "    # set of all nodes in graph\n",
    "    unvisited = set(graph.keys());\n",
    "    \n",
    "    while unvisited:\n",
    "        current_node = smallest_dist(unvisited, distance)\n",
    "        #print(current_node)\n",
    "        unvisited.remove(current_node)\n",
    "        \n",
    "        for dist, neighbor in graph[current_node]:\n",
    "            dist_to_neighbor = distance[current_node] + dist\n",
    "            \n",
    "            # if distance caclulated less than previously calculated min distance\n",
    "            if dist_to_neighbor < distance[neighbor]:\n",
    "                distance[neighbor] = dist_to_neighbor\n",
    "                previous[neighbor] = current_node\n",
    "    \n",
    "    return distance\n",
    "    #return previous\n",
    "                \n",
    "\n",
    "    \n",
    "def smallest_dist(unvisited, distance):\n",
    "    shortest_distance = None\n",
    "    current_node = None\n",
    "    \n",
    "    for node in unvisited:\n",
    "        if current_node is None:\n",
    "            current_node = node\n",
    "            shortest_distance = distance[node]\n",
    "            continue\n",
    "        \n",
    "        if distance[node] < shortest_distance:\n",
    "            current_node = node\n",
    "            shortest_distance = distance[node]\n",
    "            \n",
    "        # because capquiz wants sorted alphabetically when given an option\n",
    "        if distance[node] == shortest_distance and node < current_node:\n",
    "            current_node = node\n",
    "    \n",
    "    return current_node        "
   ]
  },
  {
   "cell_type": "code",
   "execution_count": 7,
   "id": "42258946",
   "metadata": {},
   "outputs": [
    {
     "data": {
      "text/plain": [
       "{'J': 38,\n",
       " 'K': 40,\n",
       " 'S': 51,\n",
       " 'A': 76,\n",
       " 'C': 73,\n",
       " 'I': 31,\n",
       " 'T': 54,\n",
       " 'R': 71,\n",
       " 'D': 0,\n",
       " 'G': 29,\n",
       " 'F': 52,\n",
       " 'E': 71}"
      ]
     },
     "execution_count": 7,
     "metadata": {},
     "output_type": "execute_result"
    }
   ],
   "source": [
    "a = dijkstra(graph_cq, \"D\")\n",
    "a\n",
    "#dict(sorted(a.items()))"
   ]
  },
  {
   "cell_type": "code",
   "execution_count": 31,
   "id": "d74fe7b5",
   "metadata": {},
   "outputs": [
    {
     "data": {
      "text/plain": [
       "{'J': 'I',\n",
       " 'K': 'J',\n",
       " 'S': 'K',\n",
       " 'A': 'R',\n",
       " 'C': 'D',\n",
       " 'I': 'D',\n",
       " 'T': 'S',\n",
       " 'R': 'T',\n",
       " 'D': None,\n",
       " 'G': 'D',\n",
       " 'F': 'G',\n",
       " 'E': 'F'}"
      ]
     },
     "execution_count": 31,
     "metadata": {},
     "output_type": "execute_result"
    }
   ],
   "source": [
    "# shortest path from A to C\n",
    "start = \"D\"\n",
    "end = None\n",
    "\n",
    "previous = dijkstra(graph_cq, start)\n",
    "previous\n",
    "\n",
    "#path = end\n",
    "\n",
    "#while end != start:\n",
    "#    end = previous[end]\n",
    "#    path += end\n",
    "    \n",
    "#formatted = \" \".join(i.lower() for i in path[::-1])\n",
    "#print(\"[ \" + formatted + \" ]\")\n",
    "#path[::-1]"
   ]
  }
 ],
 "metadata": {
  "kernelspec": {
   "display_name": "Python 3 (ipykernel)",
   "language": "python",
   "name": "python3"
  },
  "language_info": {
   "codemirror_mode": {
    "name": "ipython",
    "version": 3
   },
   "file_extension": ".py",
   "mimetype": "text/x-python",
   "name": "python",
   "nbconvert_exporter": "python",
   "pygments_lexer": "ipython3",
   "version": "3.10.4"
  }
 },
 "nbformat": 4,
 "nbformat_minor": 5
}
