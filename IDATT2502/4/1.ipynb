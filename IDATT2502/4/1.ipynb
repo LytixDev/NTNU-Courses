{
 "cells": [
  {
   "cell_type": "code",
   "execution_count": 2,
   "id": "3361f167-0bd4-40d2-876d-3689133de6d2",
   "metadata": {},
   "outputs": [],
   "source": [
    "import torch\n",
    "import torch.nn as nn\n",
    "import numpy as np"
   ]
  },
  {
   "cell_type": "code",
   "execution_count": 3,
   "id": "eaf521b6-13b2-40b4-b5b4-ad8c4e0443d0",
   "metadata": {},
   "outputs": [],
   "source": [
    "class LongShortTermMemoryModel(nn.Module):\n",
    "\n",
    "    def __init__(self, encoding_size):\n",
    "        super(LongShortTermMemoryModel, self).__init__()\n",
    "\n",
    "        self.lstm = nn.LSTM(encoding_size, 128)  # 128 is the state size\n",
    "        self.dense = nn.Linear(128, encoding_size)  # 128 is the state size\n",
    "\n",
    "    def reset(self):  # Reset states prior to new input sequence\n",
    "        zero_state = torch.zeros(1, 1, 128)  # Shape: (number of layers, batch size, state size)\n",
    "        self.hidden_state = zero_state\n",
    "        self.cell_state = zero_state\n",
    "\n",
    "    def logits(self, x):  # x shape: (sequence length, batch size, encoding size)\n",
    "        out, (self.hidden_state, self.cell_state) = self.lstm(x, (self.hidden_state, self.cell_state))\n",
    "        return self.dense(out.reshape(-1, 128))\n",
    "\n",
    "    def f(self, x):  # x shape: (sequence length, batch size, encoding size)\n",
    "        return torch.softmax(self.logits(x), dim=1)\n",
    "\n",
    "    def loss(self, x, y):  # x shape: (sequence length, batch size, encoding size), y shape: (sequence length, encoding size)\n",
    "        return nn.functional.cross_entropy(self.logits(x), y.argmax(1))"
   ]
  },
  {
   "cell_type": "code",
   "execution_count": 18,
   "id": "55412687-bb96-46a2-a8a5-ace56ecab065",
   "metadata": {},
   "outputs": [
    {
     "data": {
      "text/plain": [
       "[[1.0, 0.0, 0.0, 0.0, 0.0, 0.0, 0.0, 0.0],\n",
       " [0.0, 1.0, 0.0, 0.0, 0.0, 0.0, 0.0, 0.0],\n",
       " [0.0, 0.0, 1.0, 0.0, 0.0, 0.0, 0.0, 0.0],\n",
       " [0.0, 0.0, 0.0, 1.0, 0.0, 0.0, 0.0, 0.0],\n",
       " [0.0, 0.0, 0.0, 0.0, 1.0, 0.0, 0.0, 0.0],\n",
       " [0.0, 0.0, 0.0, 0.0, 0.0, 1.0, 0.0, 0.0],\n",
       " [0.0, 0.0, 0.0, 0.0, 0.0, 0.0, 1.0, 0.0],\n",
       " [0.0, 0.0, 0.0, 0.0, 0.0, 0.0, 0.0, 1.0]]"
      ]
     },
     "execution_count": 18,
     "metadata": {},
     "output_type": "execute_result"
    }
   ],
   "source": [
    "chars = [' ', 'h', 'e', 'l', 'o', 'w', 'r', 'd']\n",
    "char_encodings = []\n",
    "for i, _ in enumerate(chars):\n",
    "    encoding = [0.0 for _ in range(i)]\n",
    "    encoding.append(1.0)\n",
    "    for _ in range(len(chars) - i - 1):\n",
    "        encoding.append(0.0)\n",
    "    char_encodings.append(encoding)\n",
    "\n",
    "char_encodings"
   ]
  },
  {
   "cell_type": "code",
   "execution_count": 34,
   "id": "c96648b0-3e8b-4283-afab-c285b5418e26",
   "metadata": {},
   "outputs": [],
   "source": [
    "def code_char(character, nested):\n",
    "    if nested:\n",
    "        return [char_encodings[chars.index(character)]]\n",
    "    else:\n",
    "        return char_encodings[chars.index(character)]\n",
    "\n",
    "def encode_str(string, nest=False):\n",
    "    if nest:\n",
    "        return [[char_encodings[chars.index(c)]] for c in string]\n",
    "    else:\n",
    "        return [char_encodings[chars.index(c)] for c in string]"
   ]
  },
  {
   "cell_type": "code",
   "execution_count": 35,
   "id": "becedb4a-a3c7-4e93-86e7-c7574c471663",
   "metadata": {},
   "outputs": [],
   "source": [
    "x_train = torch.tensor(encode_str(\" hello world\", nest=True))\n",
    "y_train = torch.tensor(encode_str(\"hello world \"))"
   ]
  },
  {
   "cell_type": "code",
   "execution_count": 41,
   "id": "69960e77-11e9-4290-bbb9-a67b81a53959",
   "metadata": {},
   "outputs": [
    {
     "name": "stdout",
     "output_type": "stream",
     "text": [
      " h                                                   \n",
      " h  rdd   rrdd   rrd    rdd   rrdd   rrd    rdd   rrd\n",
      " h rrld  wrrld  wrrld  wrrld  wrrld  wrrld  wrrld  wr\n",
      " hwrrld  wrld  world  wrrld  wrrld  wrld  world  wrrl\n",
      " hwrrld world  wrrld  wrld  world  wrrld  wrld  world\n",
      " hwrld  world  wrlld world  wrrld world  wrrld world \n",
      " horld  world world  world world  world world  world \n",
      " horld  wrrld world  wrrld world  wrlld world  wrlld \n",
      " horld  wrrld world  wrlld world  wrlld world  wrlld \n",
      " horld  wrlld world world  world world  wrlld world w\n",
      " horld  wrlld world world  wrrld world world  world w\n",
      " horld  wrlld world world  wrlld world world  wrlld w\n",
      " horld world  wrrld world world  wrlld world world  w\n",
      " horld world  wrlld world world  wrlld world world  w\n",
      " horld world  wrlld world world world  wrlld world wo\n",
      " horld world world  wrlld world world world  wrlld wo\n",
      " horld world world  wrlld world world world  wrlld wo\n",
      " horld world world world  wrlld world world world wor\n",
      " horld world world world  wrlld world world world wor\n",
      " horld world world world world  wrlld world world wor\n",
      " horld world world world world world  wrll  world wor\n",
      " horld world world world world world world world worl\n",
      " horld world world world world world world world worl\n",
      " horld world world world world world world world worl\n",
      " horld world world world world world world world worl\n",
      " horld world world world world world world world worl\n",
      " horld world world world world world world world worl\n",
      " horld world world world world world world world worl\n",
      " horld world world world world world world world worl\n",
      " horld world world world world world world world worl\n",
      " horld world world world world world world world worl\n",
      " horld world world world world world world world worl\n",
      " horld world world world world world world world worl\n",
      " horld world world world world world world world worl\n",
      " horld world world world world world world world worl\n",
      " horld world world world world world world world worl\n",
      " horld world world world world world world world worl\n",
      " horld world world world world world world world worl\n",
      " horld world world world world world world world worl\n",
      " horld world world world world world world world worl\n",
      " horld world world world world world world world worl\n",
      " horld world world world world world world world worl\n",
      " horld world world world world world world world worl\n",
      " horld world world world world world world world worl\n",
      " horld world world world world world world world worl\n",
      " horld world world world world world world world worl\n",
      " horld world world world world world world world worl\n",
      " horld world world world world world world world worl\n",
      " horld world world world world world world world worl\n",
      " horld world world world world world world world worl\n"
     ]
    }
   ],
   "source": [
    "model = LongShortTermMemoryModel(len(chars))\n",
    "\n",
    "optimizer = torch.optim.RMSprop(model.parameters(), 0.001)\n",
    "epochs = 500\n",
    "for epoch in range(epochs):\n",
    "    model.reset()\n",
    "    model.loss(x_train, y_train).backward()\n",
    "    optimizer.step()\n",
    "    optimizer.zero_grad()\n",
    "\n",
    "    if epoch % 10 == 9:\n",
    "        text = ' h'\n",
    "        model.f(torch.tensor([[char_encodings[0]]]))\n",
    "        y = model.f(torch.tensor([[char_encodings[1]]]))\n",
    "        text += chars[y.argmax(1)]\n",
    "        for c in range(50):\n",
    "            y = model.f(torch.tensor([[char_encodings[y.argmax(1)]]]))\n",
    "            text += chars[y.argmax(1)]\n",
    "            \n",
    "        print(text)"
   ]
  },
  {
   "cell_type": "code",
   "execution_count": null,
   "id": "2b9aba07-6cdb-4ebf-9a51-6d919d58be7a",
   "metadata": {},
   "outputs": [],
   "source": []
  }
 ],
 "metadata": {
  "kernelspec": {
   "display_name": "venv",
   "language": "python",
   "name": "venv"
  },
  "language_info": {
   "codemirror_mode": {
    "name": "ipython",
    "version": 3
   },
   "file_extension": ".py",
   "mimetype": "text/x-python",
   "name": "python",
   "nbconvert_exporter": "python",
   "pygments_lexer": "ipython3",
   "version": "3.11.5"
  }
 },
 "nbformat": 4,
 "nbformat_minor": 5
}
