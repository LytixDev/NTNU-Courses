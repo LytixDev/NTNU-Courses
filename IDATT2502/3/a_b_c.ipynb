{
 "cells": [
  {
   "cell_type": "code",
   "execution_count": 4,
   "id": "e1dea583-ddc1-4ee5-8fbb-09a4d8c6320f",
   "metadata": {},
   "outputs": [],
   "source": [
    "import torch\n",
    "import torch.nn as nn\n",
    "import torchvision"
   ]
  },
  {
   "cell_type": "code",
   "execution_count": 5,
   "id": "ff8e114b-9834-4790-81b7-636e4632acbf",
   "metadata": {},
   "outputs": [],
   "source": [
    "# Load observations from the mnist dataset. The observations are divided into a training set and a test set\n",
    "mnist_train = torchvision.datasets.MNIST('./data', train=True, download=True)\n",
    "x_train = mnist_train.data.reshape(-1, 1, 28, 28).float()  # torch.functional.nn.conv2d argument must include channels (1)\n",
    "y_train = torch.zeros((mnist_train.targets.shape[0], 10))  # Create output tensor\n",
    "y_train[torch.arange(mnist_train.targets.shape[0]), mnist_train.targets] = 1  # Populate output\n",
    "\n",
    "mnist_test = torchvision.datasets.MNIST('./data', train=False, download=True)\n",
    "x_test = mnist_test.data.reshape(-1, 1, 28, 28).float()  # torch.functional.nn.conv2d argument must include channels (1)\n",
    "y_test = torch.zeros((mnist_test.targets.shape[0], 10))  # Create output tensor\n",
    "y_test[torch.arange(mnist_test.targets.shape[0]), mnist_test.targets] = 1  # Populate output\n",
    "\n",
    "# Normalization of inputs\n",
    "mean = x_train.mean()\n",
    "std = x_train.std()\n",
    "x_train = (x_train - mean) / std\n",
    "x_test = (x_test - mean) / std\n",
    "\n",
    "# Divide training data into batches to speed up optimization\n",
    "batches = 600\n",
    "x_train_batches = torch.split(x_train, batches)\n",
    "y_train_batches = torch.split(y_train, batches)"
   ]
  },
  {
   "cell_type": "code",
   "execution_count": 6,
   "id": "bdb753cd-8c4f-43fe-a0eb-b256eff36e6d",
   "metadata": {},
   "outputs": [],
   "source": [
    "class ConvolutionalNeuralNetworkModel(nn.Module):\n",
    "\n",
    "    def __init__(self):\n",
    "        super(ConvolutionalNeuralNetworkModel, self).__init__()\n",
    "\n",
    "        # Model layers (includes initialized model variables):\n",
    "        self.conv_a = nn.Conv2d(1, 32, kernel_size=5, padding=2)\n",
    "        self.pool_a = nn.MaxPool2d(kernel_size=2)\n",
    "        self.conv_b = nn.Conv2d(32, 64, kernel_size=5, padding=2)\n",
    "        self.pool_b = nn.MaxPool2d(kernel_size=2)\n",
    "        self.dense = nn.Linear(64 * 7 * 7, 10)\n",
    "\n",
    "    def logits(self, x):\n",
    "        x = self.conv_a(x)\n",
    "        x = self.pool_a(x)\n",
    "        x = self.conv_b(x)\n",
    "        x = self.pool_b(x)\n",
    "        return self.dense(x.reshape(-1, 64 * 7 * 7))\n",
    "        \n",
    "    # Predictor\n",
    "    def f(self, x):\n",
    "        return torch.softmax(self.logits(x), dim=1)\n",
    "\n",
    "    # Cross Entropy loss\n",
    "    def loss(self, x, y):\n",
    "        return nn.functional.cross_entropy(self.logits(x), y.argmax(1))\n",
    "\n",
    "    # Accuracy\n",
    "    def accuracy(self, x, y):\n",
    "        return torch.mean(torch.eq(self.f(x).argmax(1), y.argmax(1)).float())"
   ]
  },
  {
   "cell_type": "code",
   "execution_count": 7,
   "id": "2c676ab7-a92b-4375-be29-742e6f9996d7",
   "metadata": {},
   "outputs": [
    {
     "name": "stdout",
     "output_type": "stream",
     "text": [
      "accuracy = tensor(0.9687)\n",
      "accuracy = tensor(0.9801)\n",
      "accuracy = tensor(0.9822)\n",
      "accuracy = tensor(0.9843)\n",
      "accuracy = tensor(0.9836)\n",
      "accuracy = tensor(0.9849)\n",
      "accuracy = tensor(0.9830)\n",
      "accuracy = tensor(0.9835)\n",
      "accuracy = tensor(0.9832)\n",
      "accuracy = tensor(0.9810)\n"
     ]
    }
   ],
   "source": [
    "model = ConvolutionalNeuralNetworkModel()\n",
    "# Optimize: adjust W and b to minimize loss using stochastic gradient descent\n",
    "optimizer = torch.optim.Adam(model.parameters(), 0.001)\n",
    "for epoch in range(10):\n",
    "    for batch in range(len(x_train_batches)):\n",
    "        model.loss(x_train_batches[batch], y_train_batches[batch]).backward()  # Compute loss gradients\n",
    "        optimizer.step()  # Perform optimization by adjusting W and b,\n",
    "        optimizer.zero_grad()  # Clear gradients for next step\n",
    "\n",
    "    print(\"accuracy = %s\" % model.accuracy(x_test, y_test))\n"
   ]
  },
  {
   "cell_type": "markdown",
   "id": "5594c551-e585-43b1-8825-89f93151e37a",
   "metadata": {},
   "source": [
    "# b)"
   ]
  },
  {
   "cell_type": "code",
   "execution_count": 28,
   "id": "c32b013d-ac68-4fff-86c4-aa3d013b0543",
   "metadata": {},
   "outputs": [],
   "source": [
    "class ConvolutionalNeuralNetworkModel(nn.Module):\n",
    "\n",
    "    def __init__(self):\n",
    "        super(ConvolutionalNeuralNetworkModel, self).__init__()\n",
    "\n",
    "        # Model layers (includes initialized model variables):\n",
    "        self.conv_a = nn.Conv2d(1, 32, kernel_size=5, padding=2)\n",
    "        self.pool_a = nn.MaxPool2d(kernel_size=2)\n",
    "        self.conv_b = nn.Conv2d(32, 64, kernel_size=5, padding=2)  # 62@14x14\n",
    "        self.pool_b = nn.MaxPool2d(kernel_size=2)\n",
    "        self.dense_a = nn.Linear(64 * 7 * 7, 1024)\n",
    "        self.dense_b = nn.Linear(1024, 10)\n",
    "\n",
    "\n",
    "    def logits(self, x):\n",
    "        x = self.conv_a(x)\n",
    "        x = self.pool_a(x)\n",
    "        x = self.conv_b(x)\n",
    "        x = self.pool_b(x)\n",
    "        x = self.dense_a(x.reshape(-1, 64 * 7 *7))\n",
    "        return self.dense_b(x.reshape(-1, 1024))\n",
    "        \n",
    "    # Predictor\n",
    "    def f(self, x):\n",
    "        return torch.softmax(self.logits(x), dim=1)\n",
    "\n",
    "    # Cross Entropy loss\n",
    "    def loss(self, x, y):\n",
    "        return nn.functional.cross_entropy(self.logits(x), y.argmax(1))\n",
    "\n",
    "    # Accuracy\n",
    "    def accuracy(self, x, y):\n",
    "        return torch.mean(torch.eq(self.f(x).argmax(1), y.argmax(1)).float())"
   ]
  },
  {
   "cell_type": "code",
   "execution_count": 29,
   "id": "3fd73105-aa6e-478e-81ce-c32d764c9ebb",
   "metadata": {},
   "outputs": [
    {
     "name": "stdout",
     "output_type": "stream",
     "text": [
      "accuracy = tensor(0.9761)\n",
      "accuracy = tensor(0.9799)\n",
      "accuracy = tensor(0.9796)\n",
      "accuracy = tensor(0.9810)\n",
      "accuracy = tensor(0.9804)\n",
      "accuracy = tensor(0.9802)\n",
      "accuracy = tensor(0.9817)\n",
      "accuracy = tensor(0.9828)\n",
      "accuracy = tensor(0.9797)\n",
      "accuracy = tensor(0.9778)\n"
     ]
    }
   ],
   "source": [
    "model = ConvolutionalNeuralNetworkModel()\n",
    "# Optimize: adjust W and b to minimize loss using stochastic gradient descent\n",
    "optimizer = torch.optim.Adam(model.parameters(), 0.001)\n",
    "for epoch in range(10):\n",
    "    for batch in range(len(x_train_batches)):\n",
    "        model.loss(x_train_batches[batch], y_train_batches[batch]).backward()  # Compute loss gradients\n",
    "        optimizer.step()  # Perform optimization by adjusting W and b,\n",
    "        optimizer.zero_grad()  # Clear gradients for next step\n",
    "\n",
    "    print(\"accuracy = %s\" % model.accuracy(x_test, y_test))\n"
   ]
  },
  {
   "cell_type": "markdown",
   "id": "bd461309-3576-4c70-95d3-46feb10267df",
   "metadata": {},
   "source": [
    "# c)"
   ]
  },
  {
   "cell_type": "code",
   "execution_count": 34,
   "id": "0602fae9-0cf6-418d-927f-e0f05b1e3868",
   "metadata": {},
   "outputs": [],
   "source": [
    "class ConvolutionalNeuralNetworkModel(nn.Module):\n",
    "\n",
    "    def __init__(self):\n",
    "        super(ConvolutionalNeuralNetworkModel, self).__init__()\n",
    "\n",
    "        # Model layers (includes initialized model variables):\n",
    "        # helt likt som oppgv. b\n",
    "        self.conv_a = nn.Conv2d(1, 32, kernel_size=5, padding=2) # 1\n",
    "        self.pool_a = nn.MaxPool2d(kernel_size=2) # 2\n",
    "        self.conv_b = nn.Conv2d(32, 64, kernel_size=5, padding=2)  # 3\n",
    "        self.pool_b = nn.MaxPool2d(kernel_size=2)  # 4\n",
    "        self.dense_a = nn.Linear(64 * 7 * 7, 1024)  # 5\n",
    "        self.dense_b = nn.Linear(1024, 10)  # 6\n",
    "\n",
    "    def logits(self, x):\n",
    "        x = nn.functional.relu(nn.functional.dropout(self.conv_a(x)))  # 1\n",
    "        x = self.pool_a(x)  # 2\n",
    "        x = nn.functional.relu(nn.functional.dropout(self.conv_b(x)))  # 3\n",
    "        x = self.pool_b(x)  # 4\n",
    "        x = self.dense_a(x.reshape(-1, 64 * 7 *7))\n",
    "        return self.dense_b(x.reshape(-1, 1024))\n",
    "        \n",
    "    # Predictor\n",
    "    def f(self, x):\n",
    "        return torch.softmax(self.logits(x), dim=1)\n",
    "\n",
    "    # Cross Entropy loss\n",
    "    def loss(self, x, y):\n",
    "        return nn.functional.cross_entropy(self.logits(x), y.argmax(1))\n",
    "\n",
    "    # Accuracy\n",
    "    def accuracy(self, x, y):\n",
    "        return torch.mean(torch.eq(self.f(x).argmax(1), y.argmax(1)).float())"
   ]
  },
  {
   "cell_type": "code",
   "execution_count": 35,
   "id": "a9ab5993-d513-4239-b149-a4c7ce674dcb",
   "metadata": {},
   "outputs": [
    {
     "name": "stdout",
     "output_type": "stream",
     "text": [
      "accuracy = tensor(0.9693)\n",
      "accuracy = tensor(0.9780)\n",
      "accuracy = tensor(0.9814)\n",
      "accuracy = tensor(0.9793)\n",
      "accuracy = tensor(0.9851)\n",
      "accuracy = tensor(0.9855)\n",
      "accuracy = tensor(0.9849)\n",
      "accuracy = tensor(0.9843)\n",
      "accuracy = tensor(0.9842)\n",
      "accuracy = tensor(0.9841)\n"
     ]
    }
   ],
   "source": [
    "model = ConvolutionalNeuralNetworkModel()\n",
    "# Optimize: adjust W and b to minimize loss using stochastic gradient descent\n",
    "optimizer = torch.optim.Adam(model.parameters(), 0.001)\n",
    "for epoch in range(10):\n",
    "    for batch in range(len(x_train_batches)):\n",
    "        model.loss(x_train_batches[batch], y_train_batches[batch]).backward()  # Compute loss gradients\n",
    "        optimizer.step()  # Perform optimization by adjusting W and b,\n",
    "        optimizer.zero_grad()  # Clear gradients for next step\n",
    "\n",
    "    print(\"accuracy = %s\" % model.accuracy(x_test, y_test))\n",
    "i"
   ]
  }
 ],
 "metadata": {
  "kernelspec": {
   "display_name": "venv",
   "language": "python",
   "name": "venv"
  },
  "language_info": {
   "codemirror_mode": {
    "name": "ipython",
    "version": 3
   },
   "file_extension": ".py",
   "mimetype": "text/x-python",
   "name": "python",
   "nbconvert_exporter": "python",
   "pygments_lexer": "ipython3",
   "version": "3.11.5"
  }
 },
 "nbformat": 4,
 "nbformat_minor": 5
}
