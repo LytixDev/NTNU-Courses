{
 "cells": [
  {
   "cell_type": "code",
   "execution_count": 5,
   "id": "1c7fe6d7-4989-47ac-9b32-34b990c845aa",
   "metadata": {},
   "outputs": [],
   "source": [
    "import gym\n",
    "import numpy as np"
   ]
  },
  {
   "cell_type": "code",
   "execution_count": 67,
   "id": "2354b7f4-f462-4d99-a4b7-ffd1b760b3a9",
   "metadata": {},
   "outputs": [],
   "source": [
    "env = gym.make('CartPole-v1')\n",
    "\n",
    "# Q-learning parameters\n",
    "learning_rate = 0.1\n",
    "discount_factor = 0.99\n",
    "epsilon = 0.1\n",
    "num_episodes = 10000\n",
    "\n",
    "# Discretize the state space\n",
    "num_buckets = (6, 12)\n",
    "num_actions = env.action_space.n\n",
    "\n",
    "# Q-table\n",
    "Q = np.zeros(num_buckets + (num_actions, ))"
   ]
  },
  {
   "cell_type": "code",
   "execution_count": 51,
   "id": "0bae5d5d-26db-4c3a-b3f2-b4030e55936c",
   "metadata": {},
   "outputs": [],
   "source": [
    "# state_bounds = list(zip(env.observation_space.low, env.observation_space.high))\n",
    "# print(state_bounds)\n",
    "\n",
    "#def discretize_state(state):\n",
    "#    # list of tuples with min and max values for the observartion space\n",
    "#    # so [(-4.8, 4.8) ...]\n",
    "#    state_bounds = list(zip(env.observation_space.low, env.observation_space.high))\n",
    "#    \n",
    "#    discretized = []\n",
    "#    for i in range(len(state)):\n",
    "#        scaling = (num_buckets[i] - 1) / (state_bounds[i][1] - state_bounds[i][0])\n",
    "#        discretized.append(int((state[i] - state_bounds[i][0]) * scaling))\n",
    "#        \n",
    "#    return tuple(discretized)"
   ]
  },
  {
   "cell_type": "code",
   "execution_count": 63,
   "id": "0061996b-faee-4aaa-b44f-2c4e57f56da6",
   "metadata": {},
   "outputs": [],
   "source": [
    "from sklearn.preprocessing import KBinsDiscretizer\n",
    "def discretize_state(state):\n",
    "    _, _, angle, angle_velocity = state\n",
    "    est = KBinsDiscretizer(n_bins=num_buckets, encode=\"ordinal\", strategy=\"uniform\")\n",
    "    est.fit([env.observation_space.low, env.observation_space.high])\n",
    "    return tuple(map(int, est.transform([[angle, angle_velocity]])[0]))"
   ]
  },
  {
   "cell_type": "code",
   "execution_count": 70,
   "id": "79439cfe-4274-47ac-b74e-a683edee997c",
   "metadata": {},
   "outputs": [
    {
     "name": "stderr",
     "output_type": "stream",
     "text": [
      "/home/nic/School/maskinlæring/labs/1/venv/lib/python3.11/site-packages/numpy/core/fromnumeric.py:88: RuntimeWarning: invalid value encountered in reduce\n",
      "  return ufunc.reduce(obj, axis, dtype, out, **passkwargs)\n",
      "/home/nic/School/maskinlæring/labs/1/venv/lib/python3.11/site-packages/sklearn/preprocessing/_discretization.py:248: FutureWarning: In version 1.5 onwards, subsample=200_000 will be used by default. Set subsample explicitly to silence this warning in the mean time. Set subsample=None to disable subsampling explicitly.\n",
      "  warnings.warn(\n"
     ]
    },
    {
     "ename": "ValueError",
     "evalue": "n_bins must be a scalar or array of shape (n_features,).",
     "output_type": "error",
     "traceback": [
      "\u001b[0;31m---------------------------------------------------------------------------\u001b[0m",
      "\u001b[0;31mValueError\u001b[0m                                Traceback (most recent call last)",
      "Cell \u001b[0;32mIn[70], line 2\u001b[0m\n\u001b[1;32m      1\u001b[0m \u001b[38;5;28;01mfor\u001b[39;00m episode \u001b[38;5;129;01min\u001b[39;00m \u001b[38;5;28mrange\u001b[39m(num_episodes):\n\u001b[0;32m----> 2\u001b[0m     state \u001b[38;5;241m=\u001b[39m \u001b[43mdiscretize_state\u001b[49m\u001b[43m(\u001b[49m\u001b[43menv\u001b[49m\u001b[38;5;241;43m.\u001b[39;49m\u001b[43mreset\u001b[49m\u001b[43m(\u001b[49m\u001b[43m)\u001b[49m\u001b[43m[\u001b[49m\u001b[38;5;241;43m0\u001b[39;49m\u001b[43m]\u001b[49m\u001b[43m)\u001b[49m\n\u001b[1;32m      3\u001b[0m     finished \u001b[38;5;241m=\u001b[39m \u001b[38;5;28;01mFalse\u001b[39;00m\n\u001b[1;32m      4\u001b[0m     total_reward \u001b[38;5;241m=\u001b[39m \u001b[38;5;241m0\u001b[39m\n",
      "Cell \u001b[0;32mIn[63], line 5\u001b[0m, in \u001b[0;36mdiscretize_state\u001b[0;34m(state)\u001b[0m\n\u001b[1;32m      3\u001b[0m _, _, angle, angle_velocity \u001b[38;5;241m=\u001b[39m state\n\u001b[1;32m      4\u001b[0m est \u001b[38;5;241m=\u001b[39m KBinsDiscretizer(n_bins\u001b[38;5;241m=\u001b[39mnum_buckets, encode\u001b[38;5;241m=\u001b[39m\u001b[38;5;124m\"\u001b[39m\u001b[38;5;124mordinal\u001b[39m\u001b[38;5;124m\"\u001b[39m, strategy\u001b[38;5;241m=\u001b[39m\u001b[38;5;124m\"\u001b[39m\u001b[38;5;124muniform\u001b[39m\u001b[38;5;124m\"\u001b[39m)\n\u001b[0;32m----> 5\u001b[0m \u001b[43mest\u001b[49m\u001b[38;5;241;43m.\u001b[39;49m\u001b[43mfit\u001b[49m\u001b[43m(\u001b[49m\u001b[43m[\u001b[49m\u001b[43menv\u001b[49m\u001b[38;5;241;43m.\u001b[39;49m\u001b[43mobservation_space\u001b[49m\u001b[38;5;241;43m.\u001b[39;49m\u001b[43mlow\u001b[49m\u001b[43m,\u001b[49m\u001b[43m \u001b[49m\u001b[43menv\u001b[49m\u001b[38;5;241;43m.\u001b[39;49m\u001b[43mobservation_space\u001b[49m\u001b[38;5;241;43m.\u001b[39;49m\u001b[43mhigh\u001b[49m\u001b[43m]\u001b[49m\u001b[43m)\u001b[49m\n\u001b[1;32m      6\u001b[0m \u001b[38;5;28;01mreturn\u001b[39;00m \u001b[38;5;28mtuple\u001b[39m(\u001b[38;5;28mmap\u001b[39m(\u001b[38;5;28mint\u001b[39m, est\u001b[38;5;241m.\u001b[39mtransform([[angle, angle_velocity]])[\u001b[38;5;241m0\u001b[39m]))\n",
      "File \u001b[0;32m~/School/maskinlæring/labs/1/venv/lib/python3.11/site-packages/sklearn/base.py:1152\u001b[0m, in \u001b[0;36m_fit_context.<locals>.decorator.<locals>.wrapper\u001b[0;34m(estimator, *args, **kwargs)\u001b[0m\n\u001b[1;32m   1145\u001b[0m     estimator\u001b[38;5;241m.\u001b[39m_validate_params()\n\u001b[1;32m   1147\u001b[0m \u001b[38;5;28;01mwith\u001b[39;00m config_context(\n\u001b[1;32m   1148\u001b[0m     skip_parameter_validation\u001b[38;5;241m=\u001b[39m(\n\u001b[1;32m   1149\u001b[0m         prefer_skip_nested_validation \u001b[38;5;129;01mor\u001b[39;00m global_skip_validation\n\u001b[1;32m   1150\u001b[0m     )\n\u001b[1;32m   1151\u001b[0m ):\n\u001b[0;32m-> 1152\u001b[0m     \u001b[38;5;28;01mreturn\u001b[39;00m \u001b[43mfit_method\u001b[49m\u001b[43m(\u001b[49m\u001b[43mestimator\u001b[49m\u001b[43m,\u001b[49m\u001b[43m \u001b[49m\u001b[38;5;241;43m*\u001b[39;49m\u001b[43margs\u001b[49m\u001b[43m,\u001b[49m\u001b[43m \u001b[49m\u001b[38;5;241;43m*\u001b[39;49m\u001b[38;5;241;43m*\u001b[39;49m\u001b[43mkwargs\u001b[49m\u001b[43m)\u001b[49m\n",
      "File \u001b[0;32m~/School/maskinlæring/labs/1/venv/lib/python3.11/site-packages/sklearn/preprocessing/_discretization.py:267\u001b[0m, in \u001b[0;36mKBinsDiscretizer.fit\u001b[0;34m(self, X, y, sample_weight)\u001b[0m\n\u001b[1;32m    264\u001b[0m     X \u001b[38;5;241m=\u001b[39m _safe_indexing(X, subsample_idx)\n\u001b[1;32m    266\u001b[0m n_features \u001b[38;5;241m=\u001b[39m X\u001b[38;5;241m.\u001b[39mshape[\u001b[38;5;241m1\u001b[39m]\n\u001b[0;32m--> 267\u001b[0m n_bins \u001b[38;5;241m=\u001b[39m \u001b[38;5;28;43mself\u001b[39;49m\u001b[38;5;241;43m.\u001b[39;49m\u001b[43m_validate_n_bins\u001b[49m\u001b[43m(\u001b[49m\u001b[43mn_features\u001b[49m\u001b[43m)\u001b[49m\n\u001b[1;32m    269\u001b[0m \u001b[38;5;28;01mif\u001b[39;00m sample_weight \u001b[38;5;129;01mis\u001b[39;00m \u001b[38;5;129;01mnot\u001b[39;00m \u001b[38;5;28;01mNone\u001b[39;00m:\n\u001b[1;32m    270\u001b[0m     sample_weight \u001b[38;5;241m=\u001b[39m _check_sample_weight(sample_weight, X, dtype\u001b[38;5;241m=\u001b[39mX\u001b[38;5;241m.\u001b[39mdtype)\n",
      "File \u001b[0;32m~/School/maskinlæring/labs/1/venv/lib/python3.11/site-packages/sklearn/preprocessing/_discretization.py:353\u001b[0m, in \u001b[0;36mKBinsDiscretizer._validate_n_bins\u001b[0;34m(self, n_features)\u001b[0m\n\u001b[1;32m    350\u001b[0m n_bins \u001b[38;5;241m=\u001b[39m check_array(orig_bins, dtype\u001b[38;5;241m=\u001b[39m\u001b[38;5;28mint\u001b[39m, copy\u001b[38;5;241m=\u001b[39m\u001b[38;5;28;01mTrue\u001b[39;00m, ensure_2d\u001b[38;5;241m=\u001b[39m\u001b[38;5;28;01mFalse\u001b[39;00m)\n\u001b[1;32m    352\u001b[0m \u001b[38;5;28;01mif\u001b[39;00m n_bins\u001b[38;5;241m.\u001b[39mndim \u001b[38;5;241m>\u001b[39m \u001b[38;5;241m1\u001b[39m \u001b[38;5;129;01mor\u001b[39;00m n_bins\u001b[38;5;241m.\u001b[39mshape[\u001b[38;5;241m0\u001b[39m] \u001b[38;5;241m!=\u001b[39m n_features:\n\u001b[0;32m--> 353\u001b[0m     \u001b[38;5;28;01mraise\u001b[39;00m \u001b[38;5;167;01mValueError\u001b[39;00m(\u001b[38;5;124m\"\u001b[39m\u001b[38;5;124mn_bins must be a scalar or array of shape (n_features,).\u001b[39m\u001b[38;5;124m\"\u001b[39m)\n\u001b[1;32m    355\u001b[0m bad_nbins_value \u001b[38;5;241m=\u001b[39m (n_bins \u001b[38;5;241m<\u001b[39m \u001b[38;5;241m2\u001b[39m) \u001b[38;5;241m|\u001b[39m (n_bins \u001b[38;5;241m!=\u001b[39m orig_bins)\n\u001b[1;32m    357\u001b[0m violating_indices \u001b[38;5;241m=\u001b[39m np\u001b[38;5;241m.\u001b[39mwhere(bad_nbins_value)[\u001b[38;5;241m0\u001b[39m]\n",
      "\u001b[0;31mValueError\u001b[0m: n_bins must be a scalar or array of shape (n_features,)."
     ]
    }
   ],
   "source": [
    "for episode in range(num_episodes):\n",
    "    state = discretize_state(env.reset()[0])\n",
    "    finished = False\n",
    "    total_reward = 0\n",
    "\n",
    "    while not finished:\n",
    "        action = choose_action(state, epsilon)\n",
    "        step_ret = env.step(action)\n",
    "        next_state, reward, finished, _, _ = step_ret\n",
    "        \n",
    "        next_state = discretize_state(next_state)\n",
    "\n",
    "        # Q-learning update\n",
    "        best_next_action = np.argmax(Q[next_state])\n",
    "        Q[state][action] += learning_rate * (reward + discount_factor * Q[next_state][best_next_action] - Q[state][action])  # Bellmann\n",
    "\n",
    "        state = next_state\n",
    "        total_reward += reward\n",
    "\n",
    "    if episode % 1000 == 0:\n",
    "        print(f\"Episode {episode}, Total Reward: {total_reward}\")"
   ]
  },
  {
   "cell_type": "code",
   "execution_count": null,
   "id": "1ec0690a-b152-4821-b83d-2c64fe2f6328",
   "metadata": {},
   "outputs": [],
   "source": [
    "env.close()"
   ]
  }
 ],
 "metadata": {
  "kernelspec": {
   "display_name": "venv",
   "language": "python",
   "name": "venv"
  },
  "language_info": {
   "codemirror_mode": {
    "name": "ipython",
    "version": 3
   },
   "file_extension": ".py",
   "mimetype": "text/x-python",
   "name": "python",
   "nbconvert_exporter": "python",
   "pygments_lexer": "ipython3",
   "version": "3.11.5"
  }
 },
 "nbformat": 4,
 "nbformat_minor": 5
}
