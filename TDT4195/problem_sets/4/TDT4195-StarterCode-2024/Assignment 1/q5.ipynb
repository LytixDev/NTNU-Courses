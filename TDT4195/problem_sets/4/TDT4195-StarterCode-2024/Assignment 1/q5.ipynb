{
 "cells": [
  {
   "cell_type": "code",
   "execution_count": 2,
   "id": "9c01be88-1369-40a9-a094-d5dff0c6efeb",
   "metadata": {},
   "outputs": [],
   "source": [
    "M = [[5, 4, 6, 1, 4],\n",
    "     [6, 7, 2, 0, 4],\n",
    "     [2, 2, 2, 5, 5]]"
   ]
  },
  {
   "cell_type": "code",
   "execution_count": 3,
   "id": "c21ab9d0-4f39-462f-b894-d8c5aa6e35cd",
   "metadata": {},
   "outputs": [
    {
     "name": "stdout",
     "output_type": "stream",
     "text": [
      "[1, 1, 4, 0, 3, 3, 2, 1]\n"
     ]
    }
   ],
   "source": [
    "intensities =       [0, 1, 2, 3, 4, 5, 6, 7]\n",
    "intensity_count =   [0, 0, 0, 0, 0, 0, 0, 0]\n",
    "\n",
    "for row in M:\n",
    "    for elem in row:\n",
    "        intensity_count[elem] += 1\n",
    "\n",
    "print(intensity_count)"
   ]
  },
  {
   "cell_type": "code",
   "execution_count": 7,
   "id": "6c8c15a9-7163-47dd-8119-f2cdebb9a07f",
   "metadata": {},
   "outputs": [
    {
     "name": "stdout",
     "output_type": "stream",
     "text": [
      "[0.06666666666666667, 0.06666666666666667, 0.26666666666666666, 0.0, 0.2, 0.2, 0.13333333333333333, 0.06666666666666667]\n",
      "[0.067, 0.067, 0.267, 0.0, 0.2, 0.2, 0.133, 0.067]\n"
     ]
    }
   ],
   "source": [
    "pdf = [0, 0, 0, 0, 0, 0, 0, 0]\n",
    "pdf_round = [0, 0, 0, 0, 0, 0, 0, 0]\n",
    "\n",
    "total = sum(intensity_count)\n",
    "for i, c in enumerate(intensity_count):\n",
    "    pdf[i] = c / total\n",
    "    pdf_round[i] = round(c / total, 3)\n",
    "\n",
    "print(pdf)\n",
    "print(pdf_round)"
   ]
  },
  {
   "cell_type": "code",
   "execution_count": 9,
   "id": "805879d5-86a0-445e-bdb8-dd17c91b528a",
   "metadata": {},
   "outputs": [
    {
     "name": "stdout",
     "output_type": "stream",
     "text": [
      "[0.06666666666666667, 0.13333333333333333, 0.4, 0.4, 0.6000000000000001, 0.8, 0.9333333333333333, 1.0]\n",
      "[0.067, 0.133, 0.4, 0.4, 0.6, 0.8, 0.933, 1.0]\n"
     ]
    }
   ],
   "source": [
    "cdf = [0, 0, 0, 0, 0, 0, 0, 0] # Cumulative Distribution Function\n",
    "cdf_round = [0, 0, 0, 0, 0, 0, 0, 0] # Cumulative Distribution Function\n",
    "\n",
    "for i, elem in enumerate(pdf):\n",
    "    cum = elem + (cdf[i - 1] if i != 0 else 0)\n",
    "    cdf[i] = cum\n",
    "    cdf_round[i] = round(cum, 3)\n",
    "\n",
    "print(cdf)\n",
    "print(cdf_round)"
   ]
  },
  {
   "cell_type": "code",
   "execution_count": 12,
   "id": "b7accc19-90ad-4788-a6e6-41ec8487d978",
   "metadata": {},
   "outputs": [
    {
     "name": "stdout",
     "output_type": "stream",
     "text": [
      "[0, 0, 2, 2, 4, 5, 6, 7]\n"
     ]
    }
   ],
   "source": [
    "#new_intensities =   [0, 0, 0, 0, 0, 0, 0, 0] # Round down any resulting pixel intensities that are not integers (use the floor operator)\n",
    "L = 8  # number of intensity levels\n",
    "new_intensities = [int((L-1) * cdf[i]) for i in range(8)]  # using int() to round down\n",
    "#for i, elem in enumerate(cdf):\n",
    "#    new_intensities[i] = int(elem * 8)\n",
    "\n",
    "print(new_intensities)"
   ]
  },
  {
   "cell_type": "code",
   "execution_count": 13,
   "id": "90323497-3a21-46c3-b671-afcd41dc1ab1",
   "metadata": {},
   "outputs": [
    {
     "name": "stdout",
     "output_type": "stream",
     "text": [
      "[[5, 4, 6, 0, 4], [6, 7, 2, 0, 4], [2, 2, 2, 5, 5]]\n"
     ]
    }
   ],
   "source": [
    "M_equalized = [] \n",
    "\"\"\"[[0, 0, 0, 0, 0],\n",
    "                [0, 0, 0, 0, 0],\n",
    "                [0, 0, 0, 0, 0]]\n",
    "\"\"\"\n",
    "\n",
    "for row in M:\n",
    "    row_intermediate = []\n",
    "    for elem in row:\n",
    "        row_intermediate.append(new_intensities[elem])\n",
    "    M_equalized.append(row_intermediate)\n",
    "\n",
    "print(M_equalized)"
   ]
  }
 ],
 "metadata": {
  "kernelspec": {
   "display_name": ".venv",
   "language": "python",
   "name": "python3"
  },
  "language_info": {
   "codemirror_mode": {
    "name": "ipython",
    "version": 3
   },
   "file_extension": ".py",
   "mimetype": "text/x-python",
   "name": "python",
   "nbconvert_exporter": "python",
   "pygments_lexer": "ipython3",
   "version": "3.12.7"
  }
 },
 "nbformat": 4,
 "nbformat_minor": 5
}
