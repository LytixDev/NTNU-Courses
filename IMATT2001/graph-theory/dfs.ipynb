{
 "cells": [
  {
   "cell_type": "code",
   "execution_count": 118,
   "id": "891a34e2",
   "metadata": {},
   "outputs": [],
   "source": [
    "graph = {\n",
    "    \"A\" : [\"B\", \"G\", \"H\"],\n",
    "    \"B\" : [\"G\", \"A\", \"H\", \"C\"],\n",
    "    \"C\" : [\"B\", \"E\", \"D\", \"F\"],\n",
    "    \"D\" : [\"E\", \"C\", \"F\"],\n",
    "    \"E\" : [\"C\", \"D\"],\n",
    "    \"F\" : [\"C\", \"D\"],\n",
    "    \"G\" : [\"A\", \"B\"],\n",
    "    \"H\" : [\"A\", \"B\"]\n",
    "}\n",
    "\n",
    "graph2 = {\n",
    "    \"A\" : [\"B\", \"C\", \"D\"],\n",
    "    \"B\" : [\"A\", \"D\"],\n",
    "    \"C\" : [\"A\"],\n",
    "    \"D\" : [\"A\", \"B\"]\n",
    "}\n",
    "\n",
    "graph3 = {\n",
    "    \"A\": [\"B\", \"C\"],\n",
    "    \"B\": [\"A\", \"D\"],\n",
    "    \"C\": [\"A\", \"D\"],\n",
    "    \"D\": [\"B\", \"C\", \"E\"],\n",
    "    \"E\": [\"D\"]\n",
    "}"
   ]
  },
  {
   "cell_type": "code",
   "execution_count": 178,
   "id": "7ffd2d83",
   "metadata": {},
   "outputs": [],
   "source": [
    "def dfs(graph, marked, current_node):\n",
    "    marked.add(current_node)\n",
    "    \n",
    "    for new_node in graph[current_node]:\n",
    "        if new_node not in marked:\n",
    "            dfs(graph, marked, new_node)\n",
    "            \n",
    "    return marked"
   ]
  },
  {
   "cell_type": "code",
   "execution_count": 223,
   "id": "59442d62",
   "metadata": {},
   "outputs": [],
   "source": [
    "def dfs_iter(graph, marked, start_node, target=None):\n",
    "    stack = [start_node]\n",
    "    \n",
    "    while len(stack) > 0:\n",
    "        current_node = stack.pop()\n",
    "        \n",
    "        if current_node not in marked:\n",
    "            marked.append(current_node)\n",
    "            \n",
    "            if current_node == target:\n",
    "                return marked\n",
    "            \n",
    "            for new_node in graph[current_node]:\n",
    "                if new_node not in marked:\n",
    "                    stack.append(new_node)\n",
    "    \n",
    "    return marked"
   ]
  },
  {
   "cell_type": "code",
   "execution_count": 224,
   "id": "a68a36c8",
   "metadata": {},
   "outputs": [
    {
     "data": {
      "text/plain": [
       "['A', 'H', 'B', 'C']"
      ]
     },
     "execution_count": 224,
     "metadata": {},
     "output_type": "execute_result"
    }
   ],
   "source": [
    "marked = []\n",
    "start_node = \"A\"\n",
    "target_node = \"C\"\n",
    "\n",
    "#res = dfs(graph, marked, start_node)\n",
    "res = dfs_iter(graph, marked, start_node, target=target_node)\n",
    "res"
   ]
  }
 ],
 "metadata": {
  "kernelspec": {
   "display_name": "Python 3 (ipykernel)",
   "language": "python",
   "name": "python3"
  },
  "language_info": {
   "codemirror_mode": {
    "name": "ipython",
    "version": 3
   },
   "file_extension": ".py",
   "mimetype": "text/x-python",
   "name": "python",
   "nbconvert_exporter": "python",
   "pygments_lexer": "ipython3",
   "version": "3.10.3"
  }
 },
 "nbformat": 4,
 "nbformat_minor": 5
}
