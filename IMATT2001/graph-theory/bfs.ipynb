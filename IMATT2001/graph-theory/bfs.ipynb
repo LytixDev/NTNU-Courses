{
 "cells": [
  {
   "cell_type": "code",
   "execution_count": 10,
   "id": "46473c7d",
   "metadata": {},
   "outputs": [],
   "source": [
    "graph = {\n",
    "    \"A\" : [\"B\", \"G\", \"H\"],\n",
    "    \"B\" : [\"G\", \"A\", \"H\", \"C\"],\n",
    "    \"C\" : [\"B\", \"E\", \"D\", \"F\"],\n",
    "    \"D\" : [\"E\", \"C\", \"F\"],\n",
    "    \"E\" : [\"C\", \"D\"],\n",
    "    \"F\" : [\"C\", \"D\"],\n",
    "    \"G\" : [\"A\", \"B\"],\n",
    "    \"H\" : [\"A\", \"B\"]\n",
    "}\n",
    "\n",
    "graph2 = {\n",
    "    \"A\" : [\"B\", \"C\", \"D\"],\n",
    "    \"B\" : [\"A\", \"D\"],\n",
    "    \"C\" : [\"A\"],\n",
    "    \"D\" : [\"A\", \"B\"]\n",
    "}\n",
    "\n",
    "graph3 = {\n",
    "    \"A\": [\"B\", \"C\"],\n",
    "    \"B\": [\"A\", \"D\"],\n",
    "    \"C\": [\"A\", \"D\"],\n",
    "    \"D\": [\"B\", \"C\", \"E\"],\n",
    "    \"E\": [\"D\"]\n",
    "}\n",
    "\n",
    "graph_cq = {\n",
    "    \"A\": [\"C\", \"B\", \"D\"],\n",
    "    \"C\": [\"A\"],\n",
    "    \"B\": [\"A\", \"E\", \"F\"],\n",
    "    \"E\": [\"B\", \"I\", \"J\"],\n",
    "    \"F\": [\"B\", \"K\"],\n",
    "    \"I\": [\"E\"],\n",
    "    \"J\": [\"E\"],\n",
    "    \"K\": [\"F\"],\n",
    "    \"D\": [\"A\", \"G\", \"H\"],\n",
    "    \"G\": [\"L\", \"M\", \"D\"],\n",
    "    \"H\": [\"D\", \"N\", \"O\"],\n",
    "    \"L\": [\"G\"],\n",
    "    \"M\": [\"G\"],\n",
    "    \"N\": [\"H\"],\n",
    "    \"O\": [\"H\"]\n",
    "}\n"
   ]
  },
  {
   "cell_type": "code",
   "execution_count": 8,
   "id": "84e3d375",
   "metadata": {},
   "outputs": [],
   "source": [
    "# Written by Nicolai H. Brand 2022\n",
    "\n",
    "def bfs_iter(graph, marked, start_node, target=None):\n",
    "    stack = [start_node]\n",
    "    \n",
    "    while len(stack) > 0:\n",
    "        current_node = stack.pop(0)\n",
    "        \n",
    "        if current_node not in marked:\n",
    "            marked.append(current_node)\n",
    "            \n",
    "            if current_node == target:\n",
    "                return marked\n",
    "            \n",
    "            # because capquiz wants it sorted alphabetically\n",
    "            neighbours = graph[current_node]\n",
    "            neighbours.sort()\n",
    "            \n",
    "            for new_node in neighbours:\n",
    "                if new_node not in marked:\n",
    "                    stack.append(new_node)\n",
    "            \n",
    "    return marked"
   ]
  },
  {
   "cell_type": "code",
   "execution_count": 11,
   "id": "b60c6f8e",
   "metadata": {},
   "outputs": [
    {
     "data": {
      "text/plain": [
       "'ABCDEFGHIJKLMNO'"
      ]
     },
     "execution_count": 11,
     "metadata": {},
     "output_type": "execute_result"
    }
   ],
   "source": [
    "marked = []\n",
    "start_node = \"A\"\n",
    "target_node = None\n",
    "\n",
    "res = bfs_iter(graph_cq, marked, start_node, target=target_node)\n",
    "\"\".join(i for i in res)"
   ]
  }
 ],
 "metadata": {
  "kernelspec": {
   "display_name": "Python 3 (ipykernel)",
   "language": "python",
   "name": "python3"
  },
  "language_info": {
   "codemirror_mode": {
    "name": "ipython",
    "version": 3
   },
   "file_extension": ".py",
   "mimetype": "text/x-python",
   "name": "python",
   "nbconvert_exporter": "python",
   "pygments_lexer": "ipython3",
   "version": "3.10.4"
  }
 },
 "nbformat": 4,
 "nbformat_minor": 5
}
