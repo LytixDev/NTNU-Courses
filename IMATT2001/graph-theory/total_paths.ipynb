{
 "cells": [
  {
   "cell_type": "code",
   "execution_count": 47,
   "id": "9dec4e89",
   "metadata": {},
   "outputs": [],
   "source": [
    "nodes = [\"A\", \"B\", \"C\", \"D\"]\n",
    "\n",
    "graph = {\"A\": [\"D\", \"D\", \"C\", \"C\"],\n",
    "         \"B\": [\"D\", \"D\", \"C\", \"C\"],\n",
    "         \"C\": [\"A\", \"A\", \"B\", \"B\"],\n",
    "         \"D\": [\"A\", \"A\", \"B\", \"B\"]}\n"
   ]
  },
  {
   "cell_type": "code",
   "execution_count": 107,
   "id": "dc46bab8",
   "metadata": {},
   "outputs": [],
   "source": [
    "nodes = [\"A\", \"B\", \"C\", \"D\", \"E\", \"G\", \"H\", \"I\"]\n",
    "\n",
    "graph = {\"A\": [\"C\", \"D\", \"B\", \"E\"],\n",
    "         \"B\": [\"A\", \"D\", \"G\", \"C\", \"I\"],\n",
    "         \"C\": [\"A\", \"B\", \"I\", \"H\"],\n",
    "         \"D\": [\"A\", \"E\", \"B\", \"G\"],\n",
    "         \"E\": [\"A\", \"D\", \"G\", \"H\"],\n",
    "         \"G\": [\"B\", \"D\", \"E\", \"H\", \"I\"],\n",
    "         \"H\": [\"I\", \"C\", \"G\", \"E\"],\n",
    "         \"I\": [\"C\", \"H\", \"B\", \"G\"]}"
   ]
  },
  {
   "cell_type": "code",
   "execution_count": 111,
   "id": "9d941db1",
   "metadata": {},
   "outputs": [],
   "source": [
    "nodes = [\"A\", \"B\", \"C\", \"D\", \"G\", \"H\"]\n",
    "\n",
    "graph = {\"A\": [\"D\", \"G\", \"H\"],\n",
    "         \"B\": [\"D\", \"G\", \"H\"],\n",
    "         \"C\": [\"D\", \"G\", \"H\"],\n",
    "         \"D\": [\"A\", \"C\", \"B\"],\n",
    "         \"G\": [\"A\", \"B\", \"C\"],\n",
    "         \"H\": [\"A\", \"B\", \"C\"]}"
   ]
  },
  {
   "cell_type": "code",
   "execution_count": 114,
   "id": "17bb5d60",
   "metadata": {},
   "outputs": [],
   "source": [
    "nodes = [\"A\", \"B\", \"C\", \"D\", \"E\", \"F\", \"G\", \"H\"]\n",
    "\n",
    "graph = {\"A\": [\"G\", \"B\", \"H\"],\n",
    "         \"B\": [\"A\", \"G\", \"H\", \"C\"],\n",
    "         \"C\": [\"B\", \"E\", \"F\", \"D\"],\n",
    "         \"D\": [\"E\", \"F\", \"C\"],\n",
    "         \"E\": [\"C\", \"D\"],\n",
    "         \"F\": [\"C\", \"D\"],\n",
    "         \"G\": [\"A\", \"B\"],\n",
    "         \"H\": [\"A\", \"B\"]}"
   ]
  },
  {
   "cell_type": "code",
   "execution_count": 115,
   "id": "b220c917",
   "metadata": {},
   "outputs": [],
   "source": [
    "from collections import Counter\n",
    "\n",
    "matrix = []\n",
    "\n",
    "for key in graph.keys():\n",
    "    count = Counter(graph[key])\n",
    "    matrix.append([count[node] for node in nodes])"
   ]
  },
  {
   "cell_type": "code",
   "execution_count": 116,
   "id": "08ab142f",
   "metadata": {},
   "outputs": [
    {
     "name": "stdout",
     "output_type": "stream",
     "text": [
      "9.0\n"
     ]
    }
   ],
   "source": [
    "import numpy as np\n",
    "\n",
    "start_node = \"A\"\n",
    "end_node = \"B\"\n",
    "start_index = ord(start_node) - 65\n",
    "end_index = ord(end_node) - 65\n",
    "max_path_len = 3\n",
    "\n",
    "m = np.matrix(matrix)\n",
    "t = np.zeros(len(nodes))\n",
    "t[start_index] = 1\n",
    "\n",
    "count_paths = 0\n",
    "for i in range(1, max_path_len + 1):\n",
    "    res = np.matrix(np.linalg.matrix_power(m, i) @ t)\n",
    "    A = np.squeeze(np.asarray(res))\n",
    "    count_paths += A[end_index]\n",
    "    \n",
    "print(count_paths)"
   ]
  }
 ],
 "metadata": {
  "kernelspec": {
   "display_name": "Python 3 (ipykernel)",
   "language": "python",
   "name": "python3"
  },
  "language_info": {
   "codemirror_mode": {
    "name": "ipython",
    "version": 3
   },
   "file_extension": ".py",
   "mimetype": "text/x-python",
   "name": "python",
   "nbconvert_exporter": "python",
   "pygments_lexer": "ipython3",
   "version": "3.10.2"
  }
 },
 "nbformat": 4,
 "nbformat_minor": 5
}
